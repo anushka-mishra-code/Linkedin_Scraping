{
 "cells": [
  {
   "cell_type": "code",
   "execution_count": 1,
   "id": "7caf2393",
   "metadata": {},
   "outputs": [],
   "source": [
    "import pandas as pd\n",
    "import re\n",
    "from time import sleep\n",
    "from selenium import webdriver\n",
    "from selenium.webdriver.common.keys import Keys\n",
    "from selenium.webdriver.chrome.service import Service\n",
    "from webdriver_manager.chrome import ChromeDriverManager\n",
    "from selenium.webdriver.common.by import By\n"
   ]
  },
  {
   "cell_type": "code",
   "execution_count": 2,
   "id": "cefc7c55",
   "metadata": {},
   "outputs": [
    {
     "name": "stdout",
     "output_type": "stream",
     "text": [
      "\n"
     ]
    }
   ],
   "source": [
    "driver = webdriver.Chrome(service=Service(ChromeDriverManager().install()))\n",
    "driver.get(\"https://www.linkedin.com\")\n"
   ]
  },
  {
   "cell_type": "code",
   "execution_count": 3,
   "id": "abd18eaa",
   "metadata": {},
   "outputs": [],
   "source": [
    "username=driver.find_element(\"id\",\"session_key\")\n",
    "username.send_keys(\"mishranushka17@gmail.com\")\n",
    "password=driver.find_element(\"id\",\"session_password\")\n",
    "password.send_keys(\"anushanya\")\n"
   ]
  },
  {
   "cell_type": "code",
   "execution_count": 4,
   "id": "a081466e",
   "metadata": {},
   "outputs": [],
   "source": [
    "login=driver.find_element(By.CLASS_NAME,\"sign-in-form__submit-button\")\n",
    "login.click()"
   ]
  },
  {
   "cell_type": "code",
   "execution_count": 5,
   "id": "d66d8f05",
   "metadata": {},
   "outputs": [
    {
     "name": "stdout",
     "output_type": "stream",
     "text": [
      "\n"
     ]
    }
   ],
   "source": [
    "browser=webdriver.Chrome(service=Service(ChromeDriverManager().install()))\n",
    "browser.get(\"https://www.google.com/\")\n",
    "\n",
    "search_query = browser.find_element('name','q')\n",
    "\n",
    "\n",
    "search_query.send_keys('site:linkedin.com/in/ AND \"United Kingdom\"')\n",
    "# .send_keys() to simulate the return key \n",
    "search_query.send_keys(Keys.RETURN)\n"
   ]
  },
  {
   "cell_type": "code",
   "execution_count": 6,
   "id": "31582422",
   "metadata": {},
   "outputs": [
    {
     "data": {
      "text/plain": [
       "['https://uk.linkedin.com › ...',\n",
       " '',\n",
       " 'https://uk.linkedin.com › dominicgrace',\n",
       " '',\n",
       " 'https://uk.linkedin.com › ...',\n",
       " '',\n",
       " 'https://uk.linkedin.com › prathamuk',\n",
       " '',\n",
       " 'https://uk.linkedin.com › ...',\n",
       " '',\n",
       " 'https://uk.linkedin.com › ankur-goyal-48501532',\n",
       " '',\n",
       " 'https://uk.linkedin.com › ...',\n",
       " '',\n",
       " 'https://uk.linkedin.com › thomas-armitage-85272895',\n",
       " '',\n",
       " 'https://in.linkedin.com › ...',\n",
       " '',\n",
       " 'https://uk.linkedin.com › ...',\n",
       " '']"
      ]
     },
     "execution_count": 6,
     "metadata": {},
     "output_type": "execute_result"
    }
   ],
   "source": [
    "linkedin_urls = browser.find_elements(By.CLASS_NAME,'iUh30')\n",
    "linkedin_urls = [url.text for url in linkedin_urls]\n",
    "linkedin_urls"
   ]
  },
  {
   "cell_type": "code",
   "execution_count": null,
   "id": "34cb3c09",
   "metadata": {},
   "outputs": [],
   "source": [
    "linkedin_urls"
   ]
  },
  {
   "cell_type": "code",
   "execution_count": null,
   "id": "71deadcd",
   "metadata": {},
   "outputs": [],
   "source": []
  }
 ],
 "metadata": {
  "kernelspec": {
   "display_name": "Python 3 (ipykernel)",
   "language": "python",
   "name": "python3"
  },
  "language_info": {
   "codemirror_mode": {
    "name": "ipython",
    "version": 3
   },
   "file_extension": ".py",
   "mimetype": "text/x-python",
   "name": "python",
   "nbconvert_exporter": "python",
   "pygments_lexer": "ipython3",
   "version": "3.10.5"
  }
 },
 "nbformat": 4,
 "nbformat_minor": 5
}
